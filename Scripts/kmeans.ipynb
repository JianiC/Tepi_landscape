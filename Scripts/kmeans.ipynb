{
 "cells": [
  {
   "cell_type": "code",
   "execution_count": 2,
   "id": "7f870c01-9e56-43eb-aeab-d57fea5ac1ec",
   "metadata": {},
   "outputs": [],
   "source": [
    "import pandas as pd\n",
    "import numpy as np\n",
    "from sklearn.manifold import MDS\n",
    "from matplotlib import pyplot as plt\n",
    "import sklearn.datasets as dt\n",
    "import seaborn as sns         \n",
    "from sklearn.metrics.pairwise import manhattan_distances, euclidean_distances\n",
    "from matplotlib.offsetbox import OffsetImage, AnnotationBbox\n",
    "## k means to find the best number of group\n",
    "from sklearn.preprocessing import MinMaxScaler\n",
    "from sklearn.cluster import KMeans"
   ]
  },
  {
   "cell_type": "code",
   "execution_count": 5,
   "id": "77d85181-2ab2-4d56-84e3-39d76aaed7e1",
   "metadata": {},
   "outputs": [],
   "source": [
    "def k_means_group():\n",
    "    cost =[]\n",
    "    for i in range(1, 20):\n",
    "        kmeans = KMeans(n_clusters = i, max_iter = 500)\n",
    "        kmeans.fit(coords)\n",
    "\n",
    "        # calculates squared error\n",
    "        # for the clustered points\n",
    "        cost.append(kmeans.inertia_)    \n",
    " \n",
    "    # plot the cost against K values\n",
    "    fig, ax = plt.subplots(figsize=(10, 10))\n",
    "    plt.plot(range(1, 11), cost, color ='g', linewidth ='3')\n",
    "    plt.xlabel(\"Value of K\")\n",
    "    plt.ylabel(\"Squared Error (Cost)\")\n",
    "    #plt.show() # clear the plot\n",
    "\n",
    "    # the point of the elbow is the\n",
    "    # most optimal value for choosing k\n",
    "    \n",
    "    fig.savefig('k_choose.png')   # save the figure to file\n",
    "    plt.close(fig)    # close the figure window    \n",
    "    "
   ]
  },
  {
   "cell_type": "code",
   "execution_count": 6,
   "id": "7c61e022-53a4-43a3-93b4-39c5300ea173",
   "metadata": {},
   "outputs": [],
   "source": [
    "## with user-defined number of K to generate a plot\n",
    "def kmeans_plot():\n",
    "    kmeans = KMeans(n_clusters = k, random_state = 0)\n",
    "    cluster=kmeans.fit(coords)\n",
    "   \n",
    "    fig, ax = plt.subplots(figsize=(10, 10))\n",
    "    plt.scatter(coords[:,0],coords[:,1], c=kmeans.labels_, cmap='rainbow')\n",
    "    fig.savefig('k_choose.png')   # save the figure to file\n",
    "    plt.close(fig)    # close the figure window    \n",
    "    \n",
    "    "
   ]
  },
  {
   "cell_type": "code",
   "execution_count": 7,
   "id": "dd9683b6-5dff-4d98-94f4-8ab5c8cef434",
   "metadata": {},
   "outputs": [
    {
     "ename": "NameError",
     "evalue": "name 'argparse' is not defined",
     "output_type": "error",
     "traceback": [
      "\u001b[0;31m---------------------------------------------------------------------------\u001b[0m",
      "\u001b[0;31mNameError\u001b[0m                                 Traceback (most recent call last)",
      "Input \u001b[0;32mIn [7]\u001b[0m, in \u001b[0;36m<cell line: 21>\u001b[0;34m()\u001b[0m\n\u001b[1;32m     15\u001b[0m     strain \u001b[38;5;241m=\u001b[39m data\u001b[38;5;241m.\u001b[39mcolumns\n\u001b[1;32m     16\u001b[0m     df_mds\u001b[38;5;241m=\u001b[39mpd\u001b[38;5;241m.\u001b[39mDataFrame({\u001b[38;5;124m'\u001b[39m\u001b[38;5;124mstrain\u001b[39m\u001b[38;5;124m'\u001b[39m:strain, \u001b[38;5;124m'\u001b[39m\u001b[38;5;124mmds1\u001b[39m\u001b[38;5;124m'\u001b[39m:coords[:, \u001b[38;5;241m0\u001b[39m], \u001b[38;5;124m'\u001b[39m\u001b[38;5;124mmds2\u001b[39m\u001b[38;5;124m'\u001b[39m: coords[:, \u001b[38;5;241m1\u001b[39m]})\n\u001b[0;32m---> 21\u001b[0m \u001b[43mmain\u001b[49m\u001b[43m(\u001b[49m\u001b[43m)\u001b[49m\n",
      "Input \u001b[0;32mIn [7]\u001b[0m, in \u001b[0;36mmain\u001b[0;34m()\u001b[0m\n\u001b[1;32m      1\u001b[0m \u001b[38;5;28;01mdef\u001b[39;00m \u001b[38;5;21mmain\u001b[39m():\n\u001b[0;32m----> 3\u001b[0m     parser \u001b[38;5;241m=\u001b[39m \u001b[43margparse\u001b[49m\u001b[38;5;241m.\u001b[39mArgumentParser()\n\u001b[1;32m      4\u001b[0m     parser\u001b[38;5;241m.\u001b[39madd_argument(\u001b[38;5;124m'\u001b[39m\u001b[38;5;124m-i\u001b[39m\u001b[38;5;124m'\u001b[39m, \u001b[38;5;124m'\u001b[39m\u001b[38;5;124m--input\u001b[39m\u001b[38;5;124m'\u001b[39m, required \u001b[38;5;241m=\u001b[39m \u001b[38;5;28;01mTrue\u001b[39;00m)  \u001b[38;5;66;03m## input is the netMPHpan xlsx for multiple sequence but single allel\u001b[39;00m\n\u001b[1;32m      5\u001b[0m     parser\u001b[38;5;241m.\u001b[39madd_argument(\u001b[38;5;124m'\u001b[39m\u001b[38;5;124m-k\u001b[39m\u001b[38;5;124m'\u001b[39m, \u001b[38;5;124m'\u001b[39m\u001b[38;5;124m--ngroup\u001b[39m\u001b[38;5;124m'\u001b[39m, required \u001b[38;5;241m=\u001b[39m \u001b[38;5;28;01mTrue\u001b[39;00m) \u001b[38;5;66;03m## user choose number of K\u001b[39;00m\n",
      "\u001b[0;31mNameError\u001b[0m: name 'argparse' is not defined"
     ]
    }
   ],
   "source": [
    "def main():\n",
    "    \n",
    "    parser = argparse.ArgumentParser()\n",
    "    parser.add_argument('-i', '--input', required = True)  ## input is the netMPHpan xlsx for multiple sequence but single allel\n",
    "    parser.add_argument('-k', '--ngroup', required = True) ## user choose number of K\n",
    "    #parser.add_argument('-o', '--output', required=True) ## output is the mds coordiant\n",
    "    args = parser.parse_args()\n",
    "    #print(args.input, 'is input, ', args.output, 'output.', args.ngroup, \"user defined groups\")\n",
    "    ## get data that generated a full matrix from distance dataframe\n",
    "    data = fullmatrix(data1)\n",
    "    ## perform MDS\n",
    "    mds = MDS(n_components=2, dissimilarity=\"precomputed\", random_state=0)## create mds module\n",
    "    results = mds.fit(data)\n",
    "    coords = results.embedding_\n",
    "    strain = data.columns\n",
    "    df_mds=pd.DataFrame({'strain':strain, 'mds1':coords[:, 0], 'mds2': coords[:, 1]})\n",
    "\n",
    "    \n",
    "\n",
    "\n",
    "main()"
   ]
  },
  {
   "cell_type": "code",
   "execution_count": null,
   "id": "64404c3b-9f62-4ce0-9b9a-e7c9c38702cd",
   "metadata": {},
   "outputs": [],
   "source": []
  },
  {
   "cell_type": "code",
   "execution_count": null,
   "id": "52280036-ab9d-4dcf-a932-c5217ef98ce7",
   "metadata": {},
   "outputs": [],
   "source": []
  }
 ],
 "metadata": {
  "kernelspec": {
   "display_name": "Python 3 (ipykernel)",
   "language": "python",
   "name": "python3"
  },
  "language_info": {
   "codemirror_mode": {
    "name": "ipython",
    "version": 3
   },
   "file_extension": ".py",
   "mimetype": "text/x-python",
   "name": "python",
   "nbconvert_exporter": "python",
   "pygments_lexer": "ipython3",
   "version": "3.9.13"
  }
 },
 "nbformat": 4,
 "nbformat_minor": 5
}
