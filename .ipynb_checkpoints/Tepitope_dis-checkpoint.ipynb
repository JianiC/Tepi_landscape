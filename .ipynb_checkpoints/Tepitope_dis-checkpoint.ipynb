{
 "cells": [
  {
   "cell_type": "code",
   "execution_count": 2,
   "metadata": {},
   "outputs": [],
   "source": [
    "import pandas as pd\n",
    "import numpy as np\n",
    "import sys"
   ]
  },
  {
   "cell_type": "code",
   "execution_count": 48,
   "metadata": {},
   "outputs": [
    {
     "name": "stderr",
     "output_type": "stream",
     "text": [
      "/Users/jianichen1/opt/anaconda3/lib/python3.7/site-packages/ipykernel_launcher.py:5: SettingWithCopyWarning: \n",
      "A value is trying to be set on a copy of a slice from a DataFrame.\n",
      "Try using .loc[row_indexer,col_indexer] = value instead\n",
      "\n",
      "See the caveats in the documentation: https://pandas.pydata.org/pandas-docs/stable/user_guide/indexing.html#returning-a-view-versus-a-copy\n",
      "  \"\"\"\n"
     ]
    },
    {
     "data": {
      "text/html": [
       "<div>\n",
       "<style scoped>\n",
       "    .dataframe tbody tr th:only-of-type {\n",
       "        vertical-align: middle;\n",
       "    }\n",
       "\n",
       "    .dataframe tbody tr th {\n",
       "        vertical-align: top;\n",
       "    }\n",
       "\n",
       "    .dataframe thead th {\n",
       "        text-align: right;\n",
       "    }\n",
       "</style>\n",
       "<table border=\"1\" class=\"dataframe\">\n",
       "  <thead>\n",
       "    <tr style=\"text-align: right;\">\n",
       "      <th></th>\n",
       "      <th>seq1</th>\n",
       "      <th>seq2</th>\n",
       "      <th>epitope_distance</th>\n",
       "    </tr>\n",
       "  </thead>\n",
       "  <tbody>\n",
       "    <tr>\n",
       "      <th>0</th>\n",
       "      <td>KF826828-A-2004</td>\n",
       "      <td>KF530260-A-2005</td>\n",
       "      <td>0.0670</td>\n",
       "    </tr>\n",
       "    <tr>\n",
       "      <th>1</th>\n",
       "      <td>KF826828-A-2004</td>\n",
       "      <td>KF826838-A-2006</td>\n",
       "      <td>0.9483</td>\n",
       "    </tr>\n",
       "    <tr>\n",
       "      <th>2</th>\n",
       "      <td>KF826828-A-2004</td>\n",
       "      <td>KF826841-A-2007</td>\n",
       "      <td>0.0000</td>\n",
       "    </tr>\n",
       "    <tr>\n",
       "      <th>3</th>\n",
       "      <td>KF826828-A-2004</td>\n",
       "      <td>KY883567-A-2015</td>\n",
       "      <td>0.7337</td>\n",
       "    </tr>\n",
       "    <tr>\n",
       "      <th>4</th>\n",
       "      <td>KF530260-A-2005</td>\n",
       "      <td>KF826838-A-2006</td>\n",
       "      <td>1.0153</td>\n",
       "    </tr>\n",
       "    <tr>\n",
       "      <th>5</th>\n",
       "      <td>KF530260-A-2005</td>\n",
       "      <td>KF826841-A-2007</td>\n",
       "      <td>0.0670</td>\n",
       "    </tr>\n",
       "    <tr>\n",
       "      <th>6</th>\n",
       "      <td>KF530260-A-2005</td>\n",
       "      <td>KY883567-A-2015</td>\n",
       "      <td>0.8007</td>\n",
       "    </tr>\n",
       "    <tr>\n",
       "      <th>7</th>\n",
       "      <td>KF826838-A-2006</td>\n",
       "      <td>KF826841-A-2007</td>\n",
       "      <td>0.9483</td>\n",
       "    </tr>\n",
       "    <tr>\n",
       "      <th>8</th>\n",
       "      <td>KF826838-A-2006</td>\n",
       "      <td>KY883567-A-2015</td>\n",
       "      <td>0.0000</td>\n",
       "    </tr>\n",
       "    <tr>\n",
       "      <th>9</th>\n",
       "      <td>KF826841-A-2007</td>\n",
       "      <td>KY883567-A-2015</td>\n",
       "      <td>0.7337</td>\n",
       "    </tr>\n",
       "  </tbody>\n",
       "</table>\n",
       "</div>"
      ],
      "text/plain": [
       "              seq1             seq2  epitope_distance\n",
       "0  KF826828-A-2004  KF530260-A-2005            0.0670\n",
       "1  KF826828-A-2004  KF826838-A-2006            0.9483\n",
       "2  KF826828-A-2004  KF826841-A-2007            0.0000\n",
       "3  KF826828-A-2004  KY883567-A-2015            0.7337\n",
       "4  KF530260-A-2005  KF826838-A-2006            1.0153\n",
       "5  KF530260-A-2005  KF826841-A-2007            0.0670\n",
       "6  KF530260-A-2005  KY883567-A-2015            0.8007\n",
       "7  KF826838-A-2006  KF826841-A-2007            0.9483\n",
       "8  KF826838-A-2006  KY883567-A-2015            0.0000\n",
       "9  KF826841-A-2007  KY883567-A-2015            0.7337"
      ]
     },
     "execution_count": 48,
     "metadata": {},
     "output_type": "execute_result"
    }
   ],
   "source": [
    "## input is the netMPHpan xlsx for multiple sequence but single allel\n",
    "## for single allel, load the xls file and filter by cutoff\n",
    "data = pd.read_csv(\"text2.xls\",sep=\"\\t\",skiprows=1)\n",
    "df_epitope = data.loc[data['EL_Rank'] <2] \n",
    "df_epitope['core_tcrf'] = df_epitope.apply(lambda x:core_tcrf(x['core']),axis=1)\n",
    "seq_epidist=non_conserved_d(df_epitope)\n",
    "seq_epidist"
   ]
  },
  {
   "cell_type": "code",
   "execution_count": 34,
   "metadata": {},
   "outputs": [],
   "source": [
    "def core_tcrf(core):\n",
    "    core_tcrf = f'___{core[3]}{core[4]}{core[5]}{core[6]}{core[7]}_'\n",
    "    return core_tcrf"
   ]
  },
  {
   "cell_type": "code",
   "execution_count": 35,
   "metadata": {},
   "outputs": [],
   "source": [
    "## non-cross conserved  class I eptiopes determined by TCRf 4,5,6,7,8\n",
    "def epitope_distance(core1,core2,score1,score2):\n",
    "    if core1[3]==core2[3] and core1[4]==core2[4] and core1[5]==core2[5] and core1[6]==core2[6] and core1[7]==core2[7]:\n",
    "        return 0\n",
    "    else:\n",
    "        return score1+score2"
   ]
  },
  {
   "cell_type": "code",
   "execution_count": 45,
   "metadata": {},
   "outputs": [],
   "source": [
    "## example to calculate sequence distance with seq[1] and seq[2]\n",
    "## i and are j are the index of seq list\n",
    "\n",
    "def seq_dist(df_eptiope,i,j):\n",
    "    seq1_epitope = df_eptiope.loc[df_eptiope['ID']==seq[i]]\n",
    "    seq2_epitope = df_eptiope.loc[df_eptiope['ID']==seq[j]]\n",
    "    epitope_compare = pd.merge(seq1_epitope, seq2_epitope, how=\"outer\", on=[\"Pos\",\"core_tcrf\"])\n",
    "    epitope_compare['EL-score_x']=epitope_compare['EL-score_x'].fillna(0)\n",
    "    epitope_compare['EL-score_y']=epitope_compare['EL-score_y'].fillna(0)\n",
    "    epitope_compare['core_x']=epitope_compare['core_x'].fillna('---------')\n",
    "    epitope_compare['core_y']=epitope_compare['core_y'].fillna('---------')\n",
    "    epitope_compare['epi_dist'] = epitope_compare.apply(lambda x: epitope_distance(str(x['core_x']),str(x['core_y']),x['EL-score_x'],x['EL-score_y']), axis =1)\n",
    "    seq_distance = epitope_compare['epi_dist'].sum()\n",
    "    return(seq_distance)\n"
   ]
  },
  {
   "cell_type": "code",
   "execution_count": 46,
   "metadata": {},
   "outputs": [],
   "source": [
    "## loop through all seqs in the eitope prediction dataframe to get the no-conserved epitope distance\n",
    "\n",
    "def non_conserved_d(df_epitope):\n",
    "    seq = df_epitope.ID.unique()\n",
    "    seq_distance=[]\n",
    "    for i in range(len(seq)):\n",
    "        for j in range(len(seq)):\n",
    "            if i<j:\n",
    "                distance = seq_dist(df_epitope,i,j)\n",
    "                seq_distance.append([seq[i], seq[j], distance])\n",
    "                df_distance = pd.DataFrame(seq_distance, columns=[\"seq1\", \"seq2\",\"epitope_distance\"])           \n",
    "    return(df_distance)\n"
   ]
  },
  {
   "cell_type": "code",
   "execution_count": null,
   "metadata": {},
   "outputs": [],
   "source": []
  }
 ],
 "metadata": {
  "kernelspec": {
   "display_name": "Python 3",
   "language": "python",
   "name": "python3"
  },
  "language_info": {
   "codemirror_mode": {
    "name": "ipython",
    "version": 3
   },
   "file_extension": ".py",
   "mimetype": "text/x-python",
   "name": "python",
   "nbconvert_exporter": "python",
   "pygments_lexer": "ipython3",
   "version": "3.7.6"
  }
 },
 "nbformat": 4,
 "nbformat_minor": 5
}
