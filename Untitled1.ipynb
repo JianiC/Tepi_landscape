{
 "cells": [
  {
   "cell_type": "code",
   "execution_count": null,
   "id": "f6a3d6e0-34a5-4fcf-886e-3926d2c174ca",
   "metadata": {},
   "outputs": [],
   "source": [
    "import pandas as pd\n",
    "import numpy as np\n",
    "from sklearn.manifold import MDS\n",
    "from matplotlib import pyplot as plt\n",
    "import sklearn.datasets as dt\n",
    "import seaborn as sns         \n",
    "from sklearn.metrics.pairwise import manhattan_distances, euclidean_distances\n",
    "from matplotlib.offsetbox import OffsetImage, AnnotationBbox\n",
    "## k means to find the best number of group\n",
    "from sklearn.preprocessing import MinMaxScaler\n",
    "from sklearn.cluster import KMeans\n",
    "import argparse\n"
   ]
  },
  {
   "cell_type": "code",
   "execution_count": null,
   "id": "a79f2560-bee2-4305-951b-d579e53617fb",
   "metadata": {},
   "outputs": [],
   "source": [
    "## from distance dataframe to generate a full matrix\n",
    "def fullmatrix(df1):\n",
    "    df2 = df1 \n",
    "    data=pd.concat([df1,df2.rename(columns={'seq1':'seq2','seq2':'seq1'})], ignore_index=True) ## concate but switch seq1 and seq2\n",
    "    #data= data.filter(['seq1','seq2','epitope_distance'])\n",
    "    data= data.pivot_table(index='seq1',columns='seq2',values='epitope_distance')\n",
    "    data=data.fillna(0)\n",
    "    return(data)"
   ]
  },
  {
   "cell_type": "code",
   "execution_count": null,
   "id": "aba4da74-f192-46f4-a9fc-a16f3553087c",
   "metadata": {},
   "outputs": [],
   "source": [
    "## print MDS use user define group\n",
    "## print strain and coordinate\n",
    "def mdsplot_usergroup(strain, coords,meta):\n",
    "    df=pd.DataFrame({'strain':strain, 'mds1':coords[:, 0], 'mds2': coords[:, 1]})\n",
    "    df_meta = pd.merge(df, meta, on='strain')\n",
    "    ## plot\n",
    "    fig, ax = plt.subplots(figsize=(10, 10))\n",
    "    ax = sns.scatterplot(data = df_meta, x=\"mds1\", y=\"mds2\", hue=\"group\", cmap='rainbow')\n",
    "    fig.savefig('mds_usergroup.png')   # save the figure to file\n",
    "    plt.close(fig)    # close the figure window\n",
    "    "
   ]
  },
  {
   "cell_type": "code",
   "execution_count": null,
   "id": "69615563-31e3-4a62-9838-9f4967f9d6fa",
   "metadata": {},
   "outputs": [],
   "source": [
    "def main():\n",
    "    \n",
    "    parser = argparse.ArgumentParser()\n",
    "    parser.add_argument('-i', '--input', required = True)  ## input is the netMPHpan xlsx for multiple sequence but single allel\n",
    "    parser.add_argument(\"-m\", \"--meta\",required= False,\n",
    "                    help= \"user defined csv file\")\n",
    "    #parser.add_argument('-o', '--output', required=True) ## output is the mds coordiant\n",
    "    args = parser.parse_args()\n",
    "    print(args.input, 'is input, ', args.output, 'output.', args.meta, \"user defined groups\")\n",
    "    ## get data that generated a full matrix from distance dataframe\n",
    "    data = fullmatrix(data1)\n",
    "    ## perform MDS\n",
    "    mds = MDS(n_components=2, dissimilarity=\"precomputed\", random_state=0)## create mds module\n",
    "    results = mds.fit(data)\n",
    "    coords = results.embedding_\n",
    "    strain = data.columns\n",
    "    meta = pd.read_csv(args.meta)\n",
    "    if args.meta:\n",
    "        mdsplot_usergroup(strain,coords,meta)\n",
    "    \n",
    "\n",
    "\n",
    "main()"
   ]
  }
 ],
 "metadata": {
  "kernelspec": {
   "display_name": "Python 3 (ipykernel)",
   "language": "python",
   "name": "python3"
  },
  "language_info": {
   "codemirror_mode": {
    "name": "ipython",
    "version": 3
   },
   "file_extension": ".py",
   "mimetype": "text/x-python",
   "name": "python",
   "nbconvert_exporter": "python",
   "pygments_lexer": "ipython3",
   "version": "3.9.13"
  }
 },
 "nbformat": 4,
 "nbformat_minor": 5
}
